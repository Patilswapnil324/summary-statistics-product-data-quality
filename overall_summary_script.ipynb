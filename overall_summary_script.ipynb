{
 "cells": [
  {
   "cell_type": "code",
   "execution_count": null,
   "id": "4922ff50",
   "metadata": {},
   "outputs": [],
   "source": [
    "\n",
    "import pandas as pd\n",
    "import numpy as np"
   ]
  },
  {
   "cell_type": "code",
   "execution_count": null,
   "id": "920a8b38",
   "metadata": {},
   "outputs": [],
   "source": [
    "path=input(r\"give path\")\n",
    "df1=pd.read_csv(path) #for city\n",
    "Unique_column=input(\"unique_column: \") #for city\n",
    "Level=input(\"city/district/village/hex: \")\n",
    "Table_name=input(\"Table_name: \")\n",
    "Remove = input('give column names which want to remove seprated by comma: ').split(\",\")\n"
   ]
  },
  {
   "cell_type": "code",
   "execution_count": null,
   "id": "056f01e3",
   "metadata": {},
   "outputs": [],
   "source": [
    "#make empty datframe with required column names\n",
    "\n",
    "\n",
    "df2=pd.DataFrame(columns=[\"Table_name\",\"Level\",\"Indicators\",\"Number_of_rows\",\"No_of_unique_geography_code\",\"Mean\",\"Min\",\"1st_Qu\",\"Median\",\"3rd_Qu\",\"Max\",\"No_of 0\",\"No_of_NA\"])\n",
    "#df2"
   ]
  },
  {
   "cell_type": "code",
   "execution_count": null,
   "id": "30cc705c",
   "metadata": {},
   "outputs": [],
   "source": [
    "#remove unwanted columns from column_name\n",
    "\n",
    "column_name=list(df1.columns) \n",
    "for i in Remove:\n",
    "    if i in column_name:\n",
    "        column_name.remove(i) \n",
    "#column_name \n",
    "\n"
   ]
  },
  {
   "cell_type": "code",
   "execution_count": null,
   "id": "7f9a06cd",
   "metadata": {},
   "outputs": [],
   "source": [
    "#convert all the datacolumns into numeric type\n",
    "\n",
    "for i in column_name:\n",
    "    if df1[i].dtype == \"object\":\n",
    "        df1[i]=df1[i].str.replace(\",\",\"\")\n",
    "        df1[i]=df1[i].astype(float)\n"
   ]
  },
  {
   "cell_type": "code",
   "execution_count": null,
   "id": "5d9c4178",
   "metadata": {},
   "outputs": [],
   "source": [
    "pd.set_option('display.float_format', lambda x: '%.6f' % x)  #increase decibels"
   ]
  },
  {
   "cell_type": "code",
   "execution_count": null,
   "id": "ffeffad5",
   "metadata": {},
   "outputs": [],
   "source": [
    "df2[\"Indicators\"]=column_name\n"
   ]
  },
  {
   "cell_type": "code",
   "execution_count": null,
   "id": "20f122d7",
   "metadata": {},
   "outputs": [],
   "source": [
    "df2[\"Table_name\"]=Table_name\n",
    "#df2"
   ]
  },
  {
   "cell_type": "code",
   "execution_count": null,
   "id": "b557a8bb",
   "metadata": {},
   "outputs": [],
   "source": [
    "df2[\"Level\"]=Level"
   ]
  },
  {
   "cell_type": "code",
   "execution_count": null,
   "id": "aaba1301",
   "metadata": {},
   "outputs": [],
   "source": [
    "#count Number_of_rows\n",
    "\n",
    "Number_of_rows=[]\n",
    "for i in column_name:\n",
    "    x=len(df1)\n",
    "    Number_of_rows.append(x) \n",
    "Number_of_rows    \n",
    "\n",
    "df2[\"Number_of_rows\"]=Number_of_rows"
   ]
  },
  {
   "cell_type": "code",
   "execution_count": null,
   "id": "a8923354",
   "metadata": {},
   "outputs": [],
   "source": [
    "#count No_of_unique_geography_code\n",
    "\n",
    "No_of_unique_geography_code=[]\n",
    "for i in column_name:\n",
    "    x=df1[Unique_column].count()\n",
    "    No_of_unique_geography_code.append(x) \n",
    "No_of_unique_geography_code    \n",
    "\n",
    "df2[\"No_of_unique_geography_code\"]=No_of_unique_geography_code\n"
   ]
  },
  {
   "cell_type": "code",
   "execution_count": null,
   "id": "b15f03b6",
   "metadata": {},
   "outputs": [],
   "source": [
    "#calculate mean for each indicator\n",
    "Mean=[]\n",
    "for i in column_name:\n",
    "    x=df1[i].mean()\n",
    "    Mean.append(x) \n",
    "Mean    \n",
    "\n",
    "df2[\"Mean\"]=Mean"
   ]
  },
  {
   "cell_type": "code",
   "execution_count": null,
   "id": "78ff906b",
   "metadata": {},
   "outputs": [],
   "source": [
    "#calculate minimum value for each indicator\n",
    "\n",
    "Min=[]\n",
    "for i in column_name:\n",
    "    x=df1[i].min()\n",
    "    Min.append(x) \n",
    "Min    \n",
    "\n",
    "df2[\"Min\"]=Min"
   ]
  },
  {
   "cell_type": "code",
   "execution_count": null,
   "id": "3c7d83a1",
   "metadata": {},
   "outputs": [],
   "source": [
    "#calculate first_Qu value for each indicator\n",
    "\n",
    "first_Qu =[]\n",
    "for i in column_name:\n",
    "    x=df1[i].quantile(0.25)\n",
    "    first_Qu.append(x) \n",
    "first_Qu    \n",
    "\n",
    "df2[\"1st_Qu\"]=first_Qu"
   ]
  },
  {
   "cell_type": "code",
   "execution_count": null,
   "id": "37e9e0b9",
   "metadata": {},
   "outputs": [],
   "source": [
    "#calculate Median value for each indicator\n",
    "\n",
    "Median =[]\n",
    "for i in column_name:\n",
    "    x=df1[i].median()\n",
    "    Median.append(x) \n",
    "Median    \n",
    "\n",
    "df2[\"Median\"]=Median"
   ]
  },
  {
   "cell_type": "code",
   "execution_count": null,
   "id": "90623583",
   "metadata": {},
   "outputs": [],
   "source": [
    "#calculate third_qu value for each indicator\n",
    "\n",
    "third_qu =[]\n",
    "for i in column_name:\n",
    "    x=df1[i].quantile(0.75)\n",
    "    third_qu.append(x) \n",
    "third_qu    \n",
    "\n",
    "df2[\"3rd_Qu\"]=third_qu"
   ]
  },
  {
   "cell_type": "code",
   "execution_count": null,
   "id": "9d960eb4",
   "metadata": {},
   "outputs": [],
   "source": [
    "#calculate Maximum value for each indicator\n",
    "\n",
    "Max =[]\n",
    "for i in column_name:\n",
    "    x=df1[i].max()\n",
    "    Max.append(x) \n",
    "Max     \n",
    "\n",
    "df2[\"Max\"]=Max \n"
   ]
  },
  {
   "cell_type": "code",
   "execution_count": null,
   "id": "ab8ae549",
   "metadata": {},
   "outputs": [],
   "source": [
    "#calculate No_of_zeros for each indicator\n",
    "\n",
    "\n",
    "No_of_zeros=[]\n",
    "for i in column_name:\n",
    "    x=pd.DataFrame(df1[i])\n",
    "    zeroes = x[x[i]==0].count()[0]\n",
    "    No_of_zeros.append(zeroes) \n",
    "No_of_zeros     \n",
    "\n",
    "df2[\"No_of 0\"]=No_of_zeros \n"
   ]
  },
  {
   "cell_type": "code",
   "execution_count": null,
   "id": "75c76af7",
   "metadata": {},
   "outputs": [],
   "source": [
    "#calculate No_of_NA for each indicator\n",
    "\n",
    "No_of_NA=[]\n",
    "for i in column_name:\n",
    "    x=df1[i].isna().sum()\n",
    "    No_of_NA.append(x) \n",
    "No_of_NA     \n",
    "\n",
    "df2[\"No_of_NA\"]=No_of_NA "
   ]
  },
  {
   "cell_type": "code",
   "execution_count": null,
   "id": "ccca5b9e",
   "metadata": {},
   "outputs": [],
   "source": [
    "#check the samples\n",
    "df2.iloc[1:40, :]"
   ]
  },
  {
   "cell_type": "code",
   "execution_count": null,
   "id": "5bd27a0b",
   "metadata": {},
   "outputs": [],
   "source": [
    "#df1.describe().T"
   ]
  },
  {
   "cell_type": "code",
   "execution_count": null,
   "id": "002bfee2",
   "metadata": {},
   "outputs": [],
   "source": [
    "#run & save this file only first time\n",
    "#df2.to_csv(r\"C:\\sociometric-swapnil\\quality_check\\overall_summary1.csv\",index=False) #to excecute only first time "
   ]
  },
  {
   "cell_type": "code",
   "execution_count": null,
   "id": "58fe195d",
   "metadata": {},
   "outputs": [],
   "source": [
    "# append data frame to CSV file       #note-do not execute it 1st time & after that execute it every time\n",
    "df2.to_csv(r\"C:\\sociometric-swapnil\\quality_check\\overall_summary1.csv\", mode='a', index=False, header=False)"
   ]
  }
 ],
 "metadata": {
  "kernelspec": {
   "display_name": "Python 3 (ipykernel)",
   "language": "python",
   "name": "python3"
  },
  "language_info": {
   "codemirror_mode": {
    "name": "ipython",
    "version": 3
   },
   "file_extension": ".py",
   "mimetype": "text/x-python",
   "name": "python",
   "nbconvert_exporter": "python",
   "pygments_lexer": "ipython3",
   "version": "3.9.13"
  }
 },
 "nbformat": 4,
 "nbformat_minor": 5
}
